{
 "cells": [
  {
   "cell_type": "code",
   "execution_count": 11,
   "metadata": {},
   "outputs": [],
   "source": [
    "%matplotlib inline\n",
    "\n",
    "import h5py\n",
    "import numpy as np\n",
    "from matplotlib import pyplot as plt\n",
    "\n",
    "import torch\n",
    "\n",
    "from data import transforms as T\n",
    "from common.subsample import create_mask_for_mask_type\n"
   ]
  },
  {
   "cell_type": "code",
   "execution_count": 3,
   "metadata": {},
   "outputs": [
    {
     "data": {
      "text/plain": [
       "'/Users/yg/code/github/fastMRI'"
      ]
     },
     "execution_count": 3,
     "metadata": {},
     "output_type": "execute_result"
    }
   ],
   "source": [
    "%pwd"
   ]
  },
  {
   "cell_type": "code",
   "execution_count": 7,
   "metadata": {},
   "outputs": [],
   "source": [
    "def apply_mask(device, mask_func, kspace, seed=None):\n",
    "    \"\"\"\n",
    "    Subsample given k-space by multiplying with a mask.\n",
    "\n",
    "    Args:\n",
    "        kspace (torch.Tensor): The input k-space data. This should have at least 3 dimensions, where\n",
    "            dimensions -3 and -2 are the spatial dimensions, and the final dimension has size\n",
    "            2 (for complex values).\n",
    "        mask_func (callable): A function that takes a shape (tuple of ints) and a random\n",
    "            number seed and returns a mask.\n",
    "        seed (int or 1-d array_like, optional): Seed for the random number generator.\n",
    "\n",
    "    Returns:\n",
    "        (tuple): tuple containing:\n",
    "            masked data (torch.Tensor): Subsampled k-space data\n",
    "            mask (torch.Tensor): The generated mask\n",
    "    \"\"\"\n",
    "    shape = np.array(kspace.shape)\n",
    "    shape[:-3] = 1\n",
    "    mask = mask_func(shape, seed)\n",
    "    mask = mask.to(device)\n",
    "    kspace = kspace.to(device)\n",
    "    return torch.where(mask == 0, torch.Tensor([0]).to(device), kspace), mask\n",
    "\n",
    "\n",
    "def resize(hparams, image, target):\n",
    "    smallest_width = min(hparams.resolution, image.shape[-2])\n",
    "    smallest_height = min(hparams.resolution, image.shape[-3])\n",
    "    if target is not None:\n",
    "        smallest_width = min(smallest_width, target.shape[-1])\n",
    "        smallest_height = min(smallest_height, target.shape[-2])\n",
    "    crop_size = (smallest_height, smallest_width)\n",
    "    image = T.complex_center_crop(image, crop_size)\n",
    "    # Absolute value\n",
    "    image_abs = T.complex_abs(image)\n",
    "    # Apply Root-Sum-of-Squares if multicoil data\n",
    "    if hparams.challenge == \"multicoil\":\n",
    "        image_abs = T.root_sum_of_squares(image_abs)\n",
    "    # Normalize input\n",
    "    image_abs, mean, std = T.normalize_instance(image_abs, eps=1e-11)\n",
    "    image_abs = image_abs.clamp(-6, 6)\n",
    "\n",
    "    # Normalize target\n",
    "    if target is not None:\n",
    "        target = T.to_tensor(target)\n",
    "        target = T.center_crop(target, crop_size)\n",
    "        target = T.normalize(target, mean, std, eps=1e-11)\n",
    "        target = target.clamp(-6, 6)\n",
    "    else:\n",
    "        target = torch.Tensor([0])\n",
    "    return image, image_abs, target, mean, std\n",
    "\n",
    "\n",
    "def forward_adjoint_helper(device, hparams, mask_func, kspace, target=None):\n",
    "    masked_kspace, _ = apply_mask(device, mask_func, kspace, hparams.seed)\n",
    "    if not torch.is_tensor(masked_kspace):\n",
    "        kspace_tensor = T.to_tensor(masked_kspace)\n",
    "    else:\n",
    "        kspace_tensor = masked_kspace\n",
    "    image = transforms.ifft2(kspace_tensor)\n",
    "    image, image_abs, _, _, _ = resize(hparams, image, target)\n",
    "    return image, image_abs\n",
    "\n",
    "\n",
    "def X_operator(img):\n",
    "    fft2 =T.fft2(img)\n",
    "    print(fft2.shape)\n",
    "    return fft2"
   ]
  },
  {
   "cell_type": "code",
   "execution_count": 13,
   "metadata": {},
   "outputs": [],
   "source": [
    "hparams = {\"resolution\": 320, \n",
    "           \"challenge\":\"singlecoil\", \"mask-type\": \"equispaced\", \n",
    "           \"accelerations\":[4, 8], \"center_fractions\": [0.08, 0.04]}"
   ]
  },
  {
   "cell_type": "code",
   "execution_count": 15,
   "metadata": {},
   "outputs": [],
   "source": [
    "mask = create_mask_for_mask_type(hparams[\"mask-type\"],  hparams[\"center_fractions\"], hparams[\"accelerations\"])"
   ]
  },
  {
   "cell_type": "code",
   "execution_count": 4,
   "metadata": {},
   "outputs": [],
   "source": [
    "file = \"data/singlecoil_train/file1000001.h5\"\n",
    "hf = h5py.File(file, \"r\")"
   ]
  },
  {
   "cell_type": "code",
   "execution_count": 5,
   "metadata": {},
   "outputs": [],
   "source": [
    "kspaces =hf['kspace']"
   ]
  },
  {
   "cell_type": "code",
   "execution_count": 16,
   "metadata": {},
   "outputs": [],
   "source": [
    "device=\"cpu\""
   ]
  },
  {
   "cell_type": "code",
   "execution_count": 30,
   "metadata": {},
   "outputs": [],
   "source": [
    "svds = np.zeros((len(kspaces), 372))\n",
    "for i in range(len(kspaces)):\n",
    "    kspace = kspaces[i]\n",
    "    kspace = T.to_tensor(kspace)\n",
    "    # forward_adjoint_helper(device, hparams, mask, kspace)\n",
    "    masked_kspace, _ = apply_mask(device, mask, kspace,42)\n",
    "    u,s,v = np.linalg.svd(masked_kspace[:,:,0])\n",
    "    svds[i,:] = s"
   ]
  },
  {
   "cell_type": "code",
   "execution_count": 49,
   "metadata": {},
   "outputs": [
    {
     "data": {
      "text/plain": [
       "array([0.00037652, 0.00027777, 0.00025282, 0.00024386, 0.00024282,\n",
       "       0.00024128, 0.00023925, 0.00023331, 0.00022785, 0.00022727,\n",
       "       0.00022598, 0.00022579, 0.00022371, 0.0002222 , 0.00022079,\n",
       "       0.00021848, 0.00021714, 0.00021584, 0.00021487, 0.00021085,\n",
       "       0.0002089 , 0.0002079 , 0.00020651, 0.0002051 , 0.00020364,\n",
       "       0.00020275, 0.00020182, 0.0001994 , 0.00019765, 0.00019587,\n",
       "       0.00019556, 0.00019275, 0.00019223, 0.0001917 , 0.0001914 ,\n",
       "       0.00018898, 0.00018807, 0.00018576, 0.00018348, 0.00018197,\n",
       "       0.0001814 , 0.00018061, 0.00017938, 0.00017669, 0.00017604,\n",
       "       0.00017535, 0.00017327, 0.00017211, 0.00017157, 0.00017078])"
      ]
     },
     "execution_count": 49,
     "metadata": {},
     "output_type": "execute_result"
    }
   ],
   "source": [
    "svds[0,:50]"
   ]
  },
  {
   "cell_type": "code",
   "execution_count": 50,
   "metadata": {},
   "outputs": [
    {
     "data": {
      "image/png": "[encoded data removed]",
      "text/plain": [
       "<Figure size 576x360 with 1 Axes>"
      ]
     },
     "metadata": {
      "needs_background": "light"
     },
     "output_type": "display_data"
    }
   ],
   "source": [
    "fig, ax = plt.subplots(figsize=(8,5))\n",
    "#for i in range(svds.shape[0]):\n",
    "x = np.arange(svds[0,:].shape[0]) \n",
    "plt.stem(svds[0,:50]) \n",
    "plt.title(\"50 first eigenvalues\")\n",
    "plt.yscale('log')\n",
    "plt.xlabel(r'$k$')\n",
    "plt.ylabel(r'$\\sigma_k^2$')\n",
    "plt.savefig('variance_plot_log.pdf', bbox_inches='tight')\n",
    "plt.show()"
   ]
  },
  {
   "cell_type": "code",
   "execution_count": null,
   "metadata": {},
   "outputs": [],
   "source": [
    " plt.stem(eigvals[0: 100], use_line_collection = True) # plt.xlim([0, 100])\n",
    "plt.yscale('log')\n",
    "plt.xlabel(r'$k$')\n",
    "plt.ylabel(r'$\\sigma_k^2$') plt.savefig('variance_plot_log.pdf', bbox_inches='tight')"
   ]
  }
 ],
 "metadata": {
  "kernelspec": {
   "display_name": "fastmri",
   "language": "python",
   "name": "fastmri"
  },
  "language_info": {
   "codemirror_mode": {
    "name": "ipython",
    "version": 3
   },
   "file_extension": ".py",
   "mimetype": "text/x-python",
   "name": "python",
   "nbconvert_exporter": "python",
   "pygments_lexer": "ipython3",
   "version": "3.7.3"
  }
 },
 "nbformat": 4,
 "nbformat_minor": 4
}
